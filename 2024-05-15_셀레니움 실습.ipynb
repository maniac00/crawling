{
 "cells": [
  {
   "cell_type": "code",
   "execution_count": 1,
   "id": "51fd5062",
   "metadata": {},
   "outputs": [],
   "source": [
    "from selenium import webdriver\n",
    "from selenium.webdriver.chrome.service import Service\n",
    "from selenium.webdriver.chrome.options import Options\n",
    "# 크롬 드라이버 자동 업데이트\n",
    "from webdriver_manager.chrome import ChromeDriverManager\n",
    "from selenium.webdriver.common.by import By\n",
    "from selenium.webdriver.common.keys import Keys"
   ]
  },
  {
   "cell_type": "code",
   "execution_count": 2,
   "id": "e8fe8e53",
   "metadata": {},
   "outputs": [],
   "source": [
    "#브라우저 꺼짐 방지 - 추가1\n",
    "chrome_options = Options()\n",
    "chrome_options.add_experimental_option(\"detach\", True)\n",
    "#불필요한 에러 메시지 없애기 -추가3\n",
    "chrome_options.add_experimental_option(\"excludeSwitches\", [\"enable-logging\"])"
   ]
  },
  {
   "cell_type": "code",
   "execution_count": 3,
   "id": "84d9798e",
   "metadata": {},
   "outputs": [],
   "source": [
    "#처음한번 돌아갈때는 드라이버를 인스톨하기때문에 시간이 걸린다. (향후 드라이버가 업데이트 되면 설치한다.) 꽤~ 걸린다.\n",
    "service = Service(executable_path=ChromeDriverManager().install())\n",
    "driver = webdriver.Chrome(service=service, options=chrome_options)"
   ]
  },
  {
   "cell_type": "code",
   "execution_count": 4,
   "id": "5abac2a5",
   "metadata": {},
   "outputs": [],
   "source": [
    "driver.get(\"https://www.orderqueen.kr/backoffice_admin/login.itp\")"
   ]
  },
  {
   "cell_type": "code",
   "execution_count": 5,
   "id": "58a7d0ca",
   "metadata": {},
   "outputs": [],
   "source": [
    "per_id = '3462901380'\n",
    "per_pw = '1234567890'"
   ]
  },
  {
   "cell_type": "code",
   "execution_count": 6,
   "id": "4159d9c9",
   "metadata": {},
   "outputs": [],
   "source": [
    "driver.find_element(by='id', value = 'userId').send_keys(per_id)"
   ]
  },
  {
   "cell_type": "code",
   "execution_count": 7,
   "id": "62a01972",
   "metadata": {},
   "outputs": [],
   "source": [
    "driver.find_element(by='id', value = 'pw').send_keys(per_pw)"
   ]
  },
  {
   "cell_type": "code",
   "execution_count": 8,
   "id": "153581dd",
   "metadata": {},
   "outputs": [],
   "source": [
    "driver.find_element(by = 'id', value = 'btnLoginNew').click()"
   ]
  },
  {
   "cell_type": "code",
   "execution_count": 9,
   "id": "07ab92c1",
   "metadata": {},
   "outputs": [],
   "source": [
    "from selenium.common.exceptions import NoSuchElementException"
   ]
  },
  {
   "cell_type": "code",
   "execution_count": 10,
   "id": "83ea730b",
   "metadata": {},
   "outputs": [
    {
     "name": "stdout",
     "output_type": "stream",
     "text": [
      "모달 팝업이 존재합니다. 처리를 시작합니다.\n",
      "모달 팝업을 닫았습니다.\n"
     ]
    }
   ],
   "source": [
    "try:\n",
    "    # 모달 팝업의 존재 여부를 확인\n",
    "    modal = driver.find_element(By.ID, \"user-info-popup\")\n",
    "    print(\"모달 팝업이 존재합니다. 처리를 시작합니다.\")\n",
    "\n",
    "    # 모달 팝업 닫기 버튼 클릭 (팝업을 닫는 방법에 따라 다를 수 있음)\n",
    "    close_button = modal.find_element(By.CSS_SELECTOR, \"#user-info-close\")\n",
    "    close_button.click()\n",
    "    print(\"모달 팝업을 닫았습니다.\")\n",
    "except NoSuchElementException:\n",
    "    # 모달 팝업이 없을 경우\n",
    "    print(\"모달 팝업이 존재하지 않습니다.\")"
   ]
  },
  {
   "cell_type": "code",
   "execution_count": 11,
   "id": "100d4c95",
   "metadata": {},
   "outputs": [],
   "source": [
    "driver.get(\"https://www.orderqueen.kr/backoffice_admin/SAL03070.itp\")"
   ]
  },
  {
   "cell_type": "code",
   "execution_count": 49,
   "id": "76f1732f",
   "metadata": {},
   "outputs": [],
   "source": [
    "import datetime\n",
    "import time"
   ]
  },
  {
   "cell_type": "code",
   "execution_count": 34,
   "id": "e4eaffb4",
   "metadata": {},
   "outputs": [],
   "source": [
    "# 어제 날짜 계산\n",
    "yesterday = datetime.date.today() - datetime.timedelta(days=1)\n",
    "formatted_yesterday = yesterday.strftime('%d')  # 날짜 포맷은 사이트에 따라 조정 필요\n",
    "formatted_today"
   ]
  },
  {
   "cell_type": "code",
   "execution_count": 35,
   "id": "b936261f",
   "metadata": {},
   "outputs": [
    {
     "data": {
      "text/plain": [
       "'14'"
      ]
     },
     "execution_count": 35,
     "metadata": {},
     "output_type": "execute_result"
    }
   ],
   "source": [
    "formatted_yesterday"
   ]
  },
  {
   "cell_type": "code",
   "execution_count": 63,
   "id": "89c5873c",
   "metadata": {},
   "outputs": [],
   "source": [
    "# datepicker 엘리먼트 선택\n",
    "datepicker = driver.find_element(By.ID, \"schSDate\")\n",
    "datepicker.click()  # datepicker를 클릭하여 활성화\n",
    "\n",
    "datepickerdiv = driver.find_element(By.ID, \"ui-datepicker-div\")\n",
    "table = datepickerdiv.find_element(By.TAG_NAME, \"table\")\n",
    "tbody = table.find_element(By.TAG_NAME, \"tbody\")\n",
    "trs = tbody.find_elements(By.TAG_NAME, \"tr\")"
   ]
  },
  {
   "cell_type": "code",
   "execution_count": 64,
   "id": "025b5c7f",
   "metadata": {},
   "outputs": [],
   "source": [
    "try:\n",
    "    selected = False\n",
    "    for tr in trs:\n",
    "        tds = tr.find_elements(By.TAG_NAME, \"td\")\n",
    "        for td in tds:\n",
    "            if td.text == formatted_yesterday:\n",
    "                selected = True\n",
    "                td.click()\n",
    "                time.sleep(3)\n",
    "                \n",
    "                break\n",
    "        if(selected == True):\n",
    "            break\n",
    "            \n",
    "except Exception as e:\n",
    "    print(f\"오류 발생: {e}\")"
   ]
  },
  {
   "cell_type": "code",
   "execution_count": 33,
   "id": "ba854dac",
   "metadata": {},
   "outputs": [
    {
     "data": {
      "text/plain": [
       "'1'"
      ]
     },
     "execution_count": 33,
     "metadata": {},
     "output_type": "execute_result"
    }
   ],
   "source": [
    "td[3].text"
   ]
  },
  {
   "cell_type": "code",
   "execution_count": 16,
   "id": "62cb89aa",
   "metadata": {},
   "outputs": [
    {
     "name": "stdout",
     "output_type": "stream",
     "text": [
      "오류 발생: Message: no such element: Unable to locate element: {\"method\":\"xpath\",\"selector\":\"//td[@data-date='2024-05-14']\"}\n",
      "  (Session info: chrome=124.0.6367.201); For documentation on this error, please visit: https://www.selenium.dev/documentation/webdriver/troubleshooting/errors#no-such-element-exception\n",
      "Stacktrace:\n",
      "\tGetHandleVerifier [0x008EC113+48259]\n",
      "\t(No symbol) [0x0087CA41]\n",
      "\t(No symbol) [0x00770A17]\n",
      "\t(No symbol) [0x007B0BED]\n",
      "\t(No symbol) [0x007B0C9B]\n",
      "\t(No symbol) [0x007EBC12]\n",
      "\t(No symbol) [0x007D0DE4]\n",
      "\t(No symbol) [0x007E9B9C]\n",
      "\t(No symbol) [0x007D0B36]\n",
      "\t(No symbol) [0x007A570D]\n",
      "\t(No symbol) [0x007A62CD]\n",
      "\tGetHandleVerifier [0x00BA65A3+2908435]\n",
      "\tGetHandleVerifier [0x00BE3BBB+3159851]\n",
      "\tGetHandleVerifier [0x009850CB+674875]\n",
      "\tGetHandleVerifier [0x0098B28C+699900]\n",
      "\t(No symbol) [0x00886244]\n",
      "\t(No symbol) [0x00882298]\n",
      "\t(No symbol) [0x0088242C]\n",
      "\t(No symbol) [0x00874BB0]\n",
      "\tBaseThreadInitThunk [0x7609FCC9+25]\n",
      "\tRtlGetAppContainerNamedObjectPath [0x77977CBE+286]\n",
      "\tRtlGetAppContainerNamedObjectPath [0x77977C8E+238]\n",
      "\n"
     ]
    }
   ],
   "source": [
    "    \n",
    "    # ActionChains를 사용하여 날짜 클릭\n",
    "    ActionChains(driver).move_to_element(date_to_select).click().perform()\n",
    "    print(\"어제 날짜를 선택했습니다.\")\n",
    "\n",
    "except Exception as e:\n",
    "    print(f\"오류 발생: {e}\")"
   ]
  },
  {
   "cell_type": "code",
   "execution_count": null,
   "id": "c61735da",
   "metadata": {},
   "outputs": [],
   "source": []
  }
 ],
 "metadata": {
  "kernelspec": {
   "display_name": "Python 3 (ipykernel)",
   "language": "python",
   "name": "python3"
  },
  "language_info": {
   "codemirror_mode": {
    "name": "ipython",
    "version": 3
   },
   "file_extension": ".py",
   "mimetype": "text/x-python",
   "name": "python",
   "nbconvert_exporter": "python",
   "pygments_lexer": "ipython3",
   "version": "3.11.5"
  }
 },
 "nbformat": 4,
 "nbformat_minor": 5
}
